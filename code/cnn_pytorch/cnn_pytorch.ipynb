{
  "cells": [
    {
      "cell_type": "markdown",
      "metadata": {
        "id": "vQzL49fCS7J2"
      },
      "source": [
        "# Convolutional Neural Networks (CNN) in PyTorch\n",
        "## 教學目標\n",
        "- 幫助同學學會使用 PyTorch 建立自己的 CNN\n",
        "- 幫助同學學會建立自己的 [PyTorch Dataset](https://docs.pytorch.org/tutorials/beginner/basics/data_tutorial.html)\n",
        "\n",
        "## 適用對象\n",
        "- 適用於具備 PyTorch 基礎，且已經掌握深度學習 script 中需要有哪些組件的學生。\n",
        "- 已經對`梯度下降`、`反向傳播法`、`卷積神經網路`理論有認知的學生。"
      ]
    },
    {
      "cell_type": "markdown",
      "metadata": {
        "id": "77IpYmecVz-8"
      },
      "source": [
        "## 本教學使用的資料集\n",
        "- [TinyImageNet](https://www.kaggle.com/datasets/akash2sharma/tiny-imagenet)，是一個小規模的 ImageNet 資料集：\n",
        "\n",
        "||訓練集 (Training Set) |驗證集 (Validation Set) |測試集 (Test Set)|\n",
        "|-|-|-|-|\n",
        "|影像數量|100,000|10,000|10,000|\n",
        "|有標註嗎？|有|有|無|\n",
        "|影像有依照類別分資料夾？|有|無|x|"
      ]
    },
    {
      "cell_type": "markdown",
      "metadata": {
        "id": "s4LdJVipTGSD"
      },
      "source": [
        "## 下載資料"
      ]
    },
    {
      "cell_type": "code",
      "execution_count": 1,
      "metadata": {
        "colab": {
          "base_uri": "https://localhost:8080/"
        },
        "id": "gbd2U3aZTClY",
        "outputId": "5bf1d21a-3acd-473d-867c-a764a76fa5d4"
      },
      "outputs": [
        {
          "output_type": "stream",
          "name": "stdout",
          "text": [
            "  % Total    % Received % Xferd  Average Speed   Time    Time     Time  Current\n",
            "                                 Dload  Upload   Total   Spent    Left  Speed\n",
            "  0     0    0     0    0     0      0      0 --:--:-- --:--:-- --:--:--     0\n",
            "100  474M  100  474M    0     0  20.7M      0  0:00:22  0:00:22 --:--:-- 22.5M\n"
          ]
        }
      ],
      "source": [
        "# 從 Kaggle 下載資料\n",
        "# -o 代表輸出的位置\n",
        "\n",
        "!curl -L -o tiny-imagenet.zip\\\n",
        "  https://www.kaggle.com/api/v1/datasets/download/akash2sharma/tiny-imagenet"
      ]
    },
    {
      "cell_type": "code",
      "execution_count": 2,
      "metadata": {
        "id": "gNc1HzXsVrIq"
      },
      "outputs": [],
      "source": [
        "# 解壓縮\n",
        "# -q 代表不印出處理的資訊\n",
        "\n",
        "!unzip -q tiny-imagenet.zip"
      ]
    },
    {
      "cell_type": "markdown",
      "metadata": {
        "id": "52JxXNYCWjhI"
      },
      "source": [
        "## 觀察資料\n",
        "```\n",
        "tiny-imagenet-200/\n",
        "    ├── test/\n",
        "    ├── tiny-imagenet-200/\n",
        "    │   ├── test/\n",
        "    │   ├── train/\n",
        "    │   ├── val/\n",
        "    │   ├── wnids.txt\n",
        "    │   └── words.txt\n",
        "    ├── train/\n",
        "    ├── val/\n",
        "    │   ├── images/\n",
        "    │   └── val_annotations.txt\n",
        "    ├── wnids.txt\n",
        "    └── words.txt\n",
        "```"
      ]
    },
    {
      "cell_type": "markdown",
      "metadata": {
        "id": "Kkcz4h4hYTev"
      },
      "source": [
        "## 主程式"
      ]
    },
    {
      "cell_type": "code",
      "execution_count": 3,
      "metadata": {
        "id": "taYKSf13YOro"
      },
      "outputs": [],
      "source": [
        "import torch\n",
        "import torch.nn as nn\n",
        "import torchvision\n",
        "import os\n",
        "from PIL import Image\n",
        "from typing import Callable, Optional\n",
        "\n",
        "from utils import train_epoch, do_eval, plot_loss_history"
      ]
    },
    {
      "cell_type": "markdown",
      "metadata": {
        "id": "DkBkp5N1X-Ck"
      },
      "source": [
        "### 定義超參數"
      ]
    },
    {
      "cell_type": "code",
      "execution_count": 4,
      "metadata": {
        "id": "KEgKXv0cWDNb"
      },
      "outputs": [],
      "source": [
        "LR = 7e-4\n",
        "TRAIN_BS = 128\n",
        "TEST_BS = 512\n",
        "NUM_EPOCHS = 5\n",
        "MODEL_NAME = \"simpleCNN\" # \"simpleCNN\" or \"resnet-18\""
      ]
    },
    {
      "cell_type": "markdown",
      "metadata": {
        "id": "rT96FMaUaPUg"
      },
      "source": [
        "### 建立 CNN 模型\n",
        "- 以下提供完全一樣的兩種寫法\n",
        "- 影像在進行每層 convolution 後的 feature map 大小公式 (本公式中的 padding 為 0 或 1)：\n",
        "$$\n",
        "\\mathrm{output\\_size} = \\frac{\\mathrm{input\\_size} - \\mathrm{kernel\\_size} + 2*\\mathrm{padding}}{\\mathrm{stride}} + 1\n",
        "$$"
      ]
    },
    {
      "cell_type": "code",
      "execution_count": 5,
      "metadata": {
        "id": "BgBxeBBLaOrQ"
      },
      "outputs": [],
      "source": [
        "class SimpleCNN(torch.nn.Module):\n",
        "    \"\"\"寫法1: 模型傳遞流程寫在 forward\n",
        "    \"\"\"      #在別處也能用\n",
        "    def __init__(self, num_classes=10, fc_hidden_size=256, dropout_ratio=0.5):\n",
        "        super().__init__()\n",
        "                    #彩色一定是in_channel=3 filter大小\n",
        "        self.conv1 = nn.Conv2d(in_channels=3, out_channels=64, kernel_size=3, padding=1)\n",
        "                   #in 拿上一層的輸出\n",
        "        self.conv2 = nn.Conv2d(64, 64, kernel_size=3, padding=1)\n",
        "        self.conv3 = nn.Conv2d(64, 128, kernel_size=3, padding=1)\n",
        "\n",
        "        self.pool = nn.MaxPool2d(kernel_size=2, stride=2) # 2x2 pooling\n",
        "\n",
        "        self.fc1 = nn.Linear(128 * 8 * 8, fc_hidden_size)\n",
        "        self.fc2 = nn.Linear(fc_hidden_size, num_classes)\n",
        "        self.relu = nn.ReLU() # 非線性轉換\n",
        "\n",
        "        self.dropout = nn.Dropout(dropout_ratio)\n",
        "\n",
        "    def forward(self, x):\n",
        "        # TinyImageNet 影像大小為 64x64\n",
        "        x = self.pool(self.relu(self.conv1(x)))       # shape: (B, 64, 32, 32)\n",
        "        # conv1: output_size = (64 - 3 + 2 * 1) / 1 + 1 = 64\n",
        "        # pooling: output_size = (64 - 3 + 2 * 0) / 2 + 1 = 31.5 (進位為 32)\n",
        "\n",
        "        x = self.pool(self.relu(self.conv2(x)))       # shape: (B, 64, 16, 16)\n",
        "        # conv2: output_size = (32 - 3 + 2 * 1) / 1 + 1 = 32\n",
        "        # pooling: output_size = (32 - 3 + 2 * 0) / 2 + 1 = 15.5 (進位為 16)\n",
        "\n",
        "        x = self.pool(self.relu(self.conv3(x)))       # shape: (B, 128, 8, 8)\n",
        "        # conv3: output_size = (16 - 3 + 2 * 1) / 1 + 1 = 16\n",
        "        # pooling: output_size = (16 - 3 + 2 * 0) / 2 + 1 = 7.5 (進位為 8)\n",
        "\n",
        "        x = x.view(x.size(0), -1)                     # Flatten, shape: (B, 128*8*8)\n",
        "        x = self.dropout(self.relu(self.fc1(x)))      # shape: (B, 256)\n",
        "        x = self.fc2(x)                               # shape: (B, 10)\n",
        "        return x"
      ]
    },
    {
      "cell_type": "code",
      "execution_count": 6,
      "metadata": {
        "id": "t842fMfobLCD"
      },
      "outputs": [],
      "source": [
        "class SimpleCNN(torch.nn.Module):\n",
        "    \"\"\"寫法2: 模型傳遞流程用 `nn.Sequential` 包起來\n",
        "    \"\"\"\n",
        "    def __init__(self, num_classes=10, fc_hidden_size=256, dropout_ratio=0.5):\n",
        "        super().__init__()\n",
        "\n",
        "        self.feature_extractor = nn.Sequential(\n",
        "            nn.Conv2d(in_channels=3, out_channels=64, kernel_size=3, padding=1),\n",
        "            nn.ReLU(),\n",
        "            nn.MaxPool2d(kernel_size=2, stride=2),\n",
        "\n",
        "            nn.Conv2d(in_channels=64, out_channels=64, kernel_size=3, padding=1),\n",
        "            nn.ReLU(),\n",
        "            nn.MaxPool2d(kernel_size=2, stride=2),\n",
        "\n",
        "            nn.Conv2d(in_channels=64, out_channels=128, kernel_size=3, padding=1),\n",
        "            nn.ReLU(),\n",
        "            nn.MaxPool2d(kernel_size=2, stride=2),\n",
        "        )\n",
        "\n",
        "        self.classifier = nn.Sequential(\n",
        "            nn.Flatten(),\n",
        "            nn.Linear(128 * 8 * 8, fc_hidden_size),\n",
        "            nn.ReLU(),\n",
        "            nn.Dropout(dropout_ratio),\n",
        "            nn.Linear(fc_hidden_size, num_classes)\n",
        "        )\n",
        "\n",
        "    def forward(self, x):\n",
        "        x = self.feature_extractor(x)\n",
        "        x = self.classifier(x)\n",
        "        return x"
      ]
    },
    {
      "cell_type": "markdown",
      "metadata": {
        "id": "WO0g3EAqYFgv"
      },
      "source": [
        "### 定義 transforms"
      ]
    },
    {
      "cell_type": "code",
      "execution_count": 7,
      "metadata": {
        "id": "M4qEtnxFYFSP"
      },
      "outputs": [],
      "source": [
        "if MODEL_NAME == \"resnet-18\":\n",
        "    transform = torchvision.transforms.Compose([\n",
        "        # transforms.RandomHorizontalFlip(),\n",
        "        torchvision.transforms.Resize((224, 224)),\n",
        "        torchvision.transforms.ToTensor(),  # (HWC, uint8) → (CHW, float32 [0,1])\n",
        "        torchvision.transforms.Normalize(mean=[0.5]*3, std=[0.5]*3)\n",
        "    ])\n",
        "else:\n",
        "    transform = torchvision.transforms.Compose([\n",
        "        # transforms.RandomHorizontalFlip(),\n",
        "        torchvision.transforms.ToTensor(),  # (HWC, uint8) → (CHW, float32 [0,1])\n",
        "        torchvision.transforms.Normalize(mean=[0.5]*3, std=[0.5]*3)\n",
        "    ])"
      ]
    },
    {
      "cell_type": "markdown",
      "metadata": {
        "id": "K0zxv2ZVYrtv"
      },
      "source": [
        "### 建立 PyTorch Dataset"
      ]
    },
    {
      "cell_type": "code",
      "execution_count": 8,
      "metadata": {
        "id": "AEQqI7qyY-x0"
      },
      "outputs": [],
      "source": [
        "def get_label_id(filename: str = \"tiny-imagenet-200/wnids.txt\") -> dict:\n",
        "    with open(filename, \"r\") as f:\n",
        "        word_list = f.read().splitlines()\n",
        "\n",
        "    word_to_label_id = {}\n",
        "    for label_id, word in enumerate(word_list):\n",
        "        word_to_label_id[word] = label_id\n",
        "\n",
        "    return word_to_label_id"
      ]
    },
    {
      "cell_type": "code",
      "execution_count": 9,
      "metadata": {
        "id": "JO8ZGGDDYrcm"
      },
      "outputs": [],
      "source": [
        "class TinyImgNetDataset(torch.utils.data.Dataset):\n",
        "    def __init__(\n",
        "        self,\n",
        "        root_dir: str,\n",
        "        transform: Optional[Callable[[Image.Image], torch.Tensor]] = None,\n",
        "    ):\n",
        "        \"\"\"\n",
        "        root_dir: 資料夾路徑，例如 'tiny-imagenet-200/tiny-imagenet-200/train'\n",
        "        transform: torchvision.transforms 用來轉換 PIL 圖片\n",
        "        \"\"\"\n",
        "        self.transform = transform\n",
        "        self.image_paths = []\n",
        "        self.word_to_label_id = get_label_id()\n",
        "        self.labels = []\n",
        "\n",
        "        class_names = sorted(os.listdir(root_dir))\n",
        "        for _, class_name in enumerate(class_names):\n",
        "            label_id = self.word_to_label_id[class_name]\n",
        "            class_folder = os.path.join(root_dir, class_name , \"images\")\n",
        "            if not os.path.isdir(class_folder):\n",
        "                # 防止取到不是資料夾的位址\n",
        "                continue\n",
        "\n",
        "            for filename in os.listdir(class_folder):\n",
        "                if filename.endswith(\".JPEG\"):\n",
        "                    self.image_paths.append(os.path.join(class_folder, filename))\n",
        "                    self.labels.append(label_id)\n",
        "\n",
        "    def __getitem__(self, idx: int):\n",
        "        img_path = self.image_paths[idx]\n",
        "        label = self.labels[idx]\n",
        "        image = Image.open(img_path).convert('RGB')  # 讀成 RGB 模式\n",
        "\n",
        "        if self.transform:\n",
        "            image = self.transform(image)\n",
        "\n",
        "        return image, label\n",
        "\n",
        "    def __len__(self):\n",
        "        return len(self.image_paths)"
      ]
    },
    {
      "cell_type": "markdown",
      "metadata": {
        "id": "DiTg4046YvYM"
      },
      "source": [
        "### 建立 PyTorch Dataset (ImageFolder)\n",
        "- 我們只使用 `tiny-imagenet-200` 中的 `train` 資料夾\n",
        "- 並且將資料切分為\n",
        "    - **80000** (`training set`)\n",
        "    - **10000** (`validation set`)\n",
        "    - **10000** (`test set`)"
      ]
    },
    {
      "cell_type": "code",
      "execution_count": 10,
      "metadata": {
        "id": "PiNaBUh0Yitu"
      },
      "outputs": [],
      "source": [
        "data_dir = \"tiny-imagenet-200/tiny-imagenet-200\"\n",
        "full_dataset = TinyImgNetDataset(f\"{data_dir}/train\", transform=transform)\n",
        "\n",
        "generator1 = torch.Generator().manual_seed(42)\n",
        "train_data, val_data, test_data = torch.utils.data.random_split(\n",
        "    dataset=full_dataset,\n",
        "    lengths=[80000, 10000, 10000],\n",
        "    generator=generator1,\n",
        ")"
      ]
    },
    {
      "cell_type": "markdown",
      "metadata": {
        "id": "n0fy6lMpZ6iU"
      },
      "source": [
        "### 建立 DataLoader"
      ]
    },
    {
      "cell_type": "code",
      "execution_count": 11,
      "metadata": {
        "id": "GEAdvCQvZ55s"
      },
      "outputs": [],
      "source": [
        "train_loader = torch.utils.data.DataLoader(\n",
        "    train_data,\n",
        "    batch_size=TRAIN_BS,\n",
        "    shuffle=True,\n",
        ")\n",
        "val_loader = torch.utils.data.DataLoader(\n",
        "    val_data,\n",
        "    batch_size=TEST_BS,\n",
        "    shuffle=False,\n",
        ")\n",
        "test_loader = torch.utils.data.DataLoader(\n",
        "    test_data,\n",
        "    batch_size=TEST_BS,\n",
        "    shuffle=False,\n",
        ")"
      ]
    },
    {
      "cell_type": "markdown",
      "metadata": {
        "id": "WMLKtCCMZ_sy"
      },
      "source": [
        "### 設定 PyTorch 執行設備"
      ]
    },
    {
      "cell_type": "code",
      "execution_count": 12,
      "metadata": {
        "colab": {
          "base_uri": "https://localhost:8080/"
        },
        "id": "DTGewH15Zt8e",
        "outputId": "68957d6c-188b-4804-a306-c88a3957c091"
      },
      "outputs": [
        {
          "output_type": "stream",
          "name": "stdout",
          "text": [
            "cuda\n"
          ]
        }
      ],
      "source": [
        "device = torch.device(\"cuda\" if torch.cuda.is_available() else \"cpu\")\n",
        "print(device)"
      ]
    },
    {
      "cell_type": "markdown",
      "metadata": {
        "id": "P1phbN7QaHSZ"
      },
      "source": [
        "### 初始化模型、損失函數、optimizer"
      ]
    },
    {
      "cell_type": "code",
      "execution_count": 13,
      "metadata": {
        "id": "fyCVzOmOaEbC"
      },
      "outputs": [],
      "source": [
        "if MODEL_NAME == \"resnet-18\":\n",
        "    model = torchvision.models.resnet18(pretrained=True)\n",
        "    model.fc = torch.nn.Linear(512, 200)\n",
        "elif MODEL_NAME == \"simpleCNN\":\n",
        "    model = SimpleCNN(num_classes=200).to(device)\n",
        "model.to(device) # 將模型移至 GPU\n",
        "\n",
        "criterion = torch.nn.CrossEntropyLoss()\n",
        "optimizer = torch.optim.Adam(model.parameters(), lr=LR)"
      ]
    },
    {
      "cell_type": "markdown",
      "metadata": {
        "id": "-Pm5j8D8bsQF"
      },
      "source": [
        "### 訓練與驗證模型"
      ]
    },
    {
      "cell_type": "code",
      "execution_count": 14,
      "metadata": {
        "colab": {
          "base_uri": "https://localhost:8080/",
          "height": 819
        },
        "id": "OW_6rSaxbuMw",
        "outputId": "5f1491d5-42ab-42ca-8117-5372517ad5c0"
      },
      "outputs": [
        {
          "output_type": "stream",
          "name": "stderr",
          "text": [
            "Training: 100%|██████████| 625/625 [01:08<00:00,  9.18it/s, loss=4.9523]\n",
            "Evaluating: 100%|██████████| 20/20 [00:06<00:00,  2.99it/s]\n"
          ]
        },
        {
          "output_type": "stream",
          "name": "stdout",
          "text": [
            "\n",
            "Epoch 1/5 | Train Loss: 4.9523 | Val Loss: 4.5220 | Val Acc: 0.0837\n"
          ]
        },
        {
          "output_type": "stream",
          "name": "stderr",
          "text": [
            "Training: 100%|██████████| 625/625 [01:05<00:00,  9.56it/s, loss=4.3708]\n",
            "Evaluating: 100%|██████████| 20/20 [00:07<00:00,  2.85it/s]\n"
          ]
        },
        {
          "output_type": "stream",
          "name": "stdout",
          "text": [
            "\n",
            "Epoch 2/5 | Train Loss: 4.3708 | Val Loss: 4.0011 | Val Acc: 0.1515\n"
          ]
        },
        {
          "output_type": "stream",
          "name": "stderr",
          "text": [
            "Training: 100%|██████████| 625/625 [01:05<00:00,  9.48it/s, loss=4.0465]\n",
            "Evaluating: 100%|██████████| 20/20 [00:06<00:00,  3.19it/s]\n"
          ]
        },
        {
          "output_type": "stream",
          "name": "stdout",
          "text": [
            "\n",
            "Epoch 3/5 | Train Loss: 4.0465 | Val Loss: 3.7362 | Val Acc: 0.1948\n"
          ]
        },
        {
          "output_type": "stream",
          "name": "stderr",
          "text": [
            "Training: 100%|██████████| 625/625 [01:09<00:00,  9.05it/s, loss=3.8601]\n",
            "Evaluating: 100%|██████████| 20/20 [00:05<00:00,  3.42it/s]\n"
          ]
        },
        {
          "output_type": "stream",
          "name": "stdout",
          "text": [
            "\n",
            "Epoch 4/5 | Train Loss: 3.8601 | Val Loss: 3.6687 | Val Acc: 0.1983\n"
          ]
        },
        {
          "output_type": "stream",
          "name": "stderr",
          "text": [
            "Training: 100%|██████████| 625/625 [01:04<00:00,  9.62it/s, loss=3.7359]\n",
            "Evaluating: 100%|██████████| 20/20 [00:06<00:00,  3.12it/s]\n"
          ]
        },
        {
          "output_type": "stream",
          "name": "stdout",
          "text": [
            "\n",
            "Epoch 5/5 | Train Loss: 3.7300 | Val Loss: 3.5037 | Val Acc: 0.2243\n"
          ]
        },
        {
          "output_type": "display_data",
          "data": {
            "text/plain": [
              "<Figure size 640x480 with 1 Axes>"
            ],
            "image/png": "[encoded data removed]"
          },
          "metadata": {}
        }
      ],
      "source": [
        "train_losses, val_losses = [], []\n",
        "\n",
        "for epoch in range(NUM_EPOCHS):\n",
        "    model.train()\n",
        "    running_loss = 0.0\n",
        "    train_loss_epoch = train_epoch(\n",
        "        model=model,\n",
        "        data_loader=train_loader,\n",
        "        optimizer=optimizer,\n",
        "        loss_fn=criterion,\n",
        "        device=device,\n",
        "    )\n",
        "    train_losses.append(train_loss_epoch)\n",
        "\n",
        "    # 驗證模型\n",
        "    val_loss, val_acc, _, _ = do_eval(\n",
        "        model=model,\n",
        "        data_loader=val_loader,\n",
        "        loss_fn=criterion,\n",
        "        device=device,\n",
        "    )\n",
        "    val_losses.append(val_loss)\n",
        "\n",
        "    print()\n",
        "    print(f\"Epoch {epoch+1}/{NUM_EPOCHS} | Train Loss: {train_loss_epoch:.4f} | \"\n",
        "        f\"Val Loss: {val_loss:.4f} | Val Acc: {val_acc:.4f}\")\n",
        "\n",
        "# 繪製 loss 的歷史記錄圖\n",
        "plot_loss_history(train_losses, val_losses, save_name=\"loss.png\")"
      ]
    }
  ],
  "metadata": {
    "accelerator": "GPU",
    "colab": {
      "gpuType": "T4",
      "provenance": []
    },
    "kernelspec": {
      "display_name": "Python 3",
      "name": "python3"
    },
    "language_info": {
      "name": "python"
    }
  },
  "nbformat": 4,
  "nbformat_minor": 0
}